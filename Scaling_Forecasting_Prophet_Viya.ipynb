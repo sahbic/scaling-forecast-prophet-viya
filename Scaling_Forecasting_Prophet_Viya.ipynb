{
 "cells": [
  {
   "cell_type": "markdown",
   "metadata": {},
   "source": [
    "# Cloud Distributed Time Series Analysis"
   ]
  },
  {
   "cell_type": "markdown",
   "metadata": {},
   "source": [
    "### Load environment variables"
   ]
  },
  {
   "cell_type": "code",
   "execution_count": null,
   "metadata": {},
   "outputs": [],
   "source": [
    "from dotenv import load_dotenv\n",
    "from pathlib import Path\n",
    "import os\n",
    "\n",
    "env_path = Path('..') / '.env'\n",
    "load_dotenv(dotenv_path=env_path)\n",
    "\n",
    "HOST_IP = os.getenv(\"HOST_IP\")\n",
    "HOST_PORT = os.getenv(\"HOST_PORT\")\n",
    "USERNAME = os.getenv(\"USERNAME\")\n",
    "PASSWORD = os.getenv(\"PASSWORD\")\n",
    "os.environ['CAS_CLIENT_SSL_CA_LIST'] = os.getenv(\"CAS_CLIENT_SSL_CA_LIST\")"
   ]
  },
  {
   "cell_type": "markdown",
   "metadata": {},
   "source": [
    "## Import the data"
   ]
  },
  {
   "cell_type": "markdown",
   "metadata": {},
   "source": [
    "### Connect to SAS Viya"
   ]
  },
  {
   "cell_type": "code",
   "execution_count": null,
   "metadata": {},
   "outputs": [],
   "source": [
    "import swat\n",
    "\n",
    "# Connect to CAS server\n",
    "s = swat.CAS(HOST_IP, HOST_PORT, USERNAME,PASSWORD)"
   ]
  },
  {
   "cell_type": "markdown",
   "metadata": {},
   "source": [
    "### Access and filter the table"
   ]
  },
  {
   "cell_type": "code",
   "execution_count": null,
   "metadata": {},
   "outputs": [],
   "source": [
    "# Access the data from the server\n",
    "tbl = s.CASTable(\"M5_final\",caslib='Public')\n",
    "\n",
    "# display first rows\n",
    "tbl.head()"
   ]
  },
  {
   "cell_type": "markdown",
   "metadata": {},
   "source": [
    "## Local Analysis"
   ]
  },
  {
   "cell_type": "code",
   "execution_count": null,
   "metadata": {},
   "outputs": [],
   "source": [
    "import pandas as pd\n",
    "import numpy as np\n",
    "\n",
    "import time\n",
    "from tqdm import tqdm"
   ]
  },
  {
   "cell_type": "markdown",
   "metadata": {},
   "source": [
    "### Import the data locally"
   ]
  },
  {
   "cell_type": "code",
   "execution_count": null,
   "metadata": {},
   "outputs": [],
   "source": [
    "# Get the data as a pandas DataFrame\n",
    "df = tbl.to_frame()"
   ]
  },
  {
   "cell_type": "markdown",
   "metadata": {},
   "source": [
    "### Convert to time series"
   ]
  },
  {
   "cell_type": "code",
   "execution_count": null,
   "metadata": {},
   "outputs": [],
   "source": [
    "# convert date\n",
    "df.date = pd.to_datetime(df.date)\n",
    "\n",
    "# separate time series\n",
    "start_time = time.time()\n",
    "series = []\n",
    "for idx, dfp in  df.groupby([\"item_id\"]):\n",
    "    series.append(dfp.reset_index()[[\"date\",\"Quantity\"]].rename(columns={\"date\":\"ds\",\"Quantity\":\"y\"}))\n",
    "\n",
    "print(\"--- %s seconds ---\" % (time.time() - start_time))"
   ]
  },
  {
   "cell_type": "code",
   "execution_count": null,
   "metadata": {},
   "outputs": [],
   "source": [
    "len(series)"
   ]
  },
  {
   "cell_type": "markdown",
   "metadata": {},
   "source": [
    "### Prophet model"
   ]
  },
  {
   "cell_type": "code",
   "execution_count": null,
   "metadata": {},
   "outputs": [],
   "source": [
    "from fbprophet import Prophet\n",
    "\n",
    "def run_prophet(timeserie):\n",
    "    model = Prophet()\n",
    "    model.fit(timeserie)\n",
    "    forecast = model.make_future_dataframe(periods=7)\n",
    "    forecast = model.predict(forecast)\n",
    "    return forecast"
   ]
  },
  {
   "cell_type": "markdown",
   "metadata": {},
   "source": [
    "### Run Forecast locally"
   ]
  },
  {
   "cell_type": "code",
   "execution_count": null,
   "metadata": {},
   "outputs": [],
   "source": [
    "start_time = time.time()\n",
    "result = list(map(lambda timeserie: run_prophet(timeserie), tqdm(series)))\n",
    "print(\"--- %s seconds ---\" % (time.time() - start_time))"
   ]
  },
  {
   "cell_type": "code",
   "execution_count": null,
   "metadata": {
    "scrolled": true
   },
   "outputs": [],
   "source": [
    "start_time = time.time()\n",
    "result = list(map(lambda timeserie: run_prophet(timeserie), tqdm(series)))\n",
    "print(\"--- %s seconds ---\" % (time.time() - start_time))"
   ]
  },
  {
   "cell_type": "markdown",
   "metadata": {},
   "source": [
    "## Distributed Analysis"
   ]
  },
  {
   "cell_type": "code",
   "execution_count": null,
   "metadata": {},
   "outputs": [],
   "source": [
    "# Load needed action sets\n",
    "s.loadactionset(actionset=\"timedata\")"
   ]
  },
  {
   "cell_type": "code",
   "execution_count": null,
   "metadata": {
    "jupyter": {
     "source_hidden": true
    }
   },
   "outputs": [],
   "source": [
    "s.dropTable(\"outobj_pylog\")\n",
    "s.dropTable(\"outobj_pyvars\")"
   ]
  },
  {
   "cell_type": "markdown",
   "metadata": {},
   "source": [
    "### Code file"
   ]
  },
  {
   "cell_type": "code",
   "execution_count": null,
   "metadata": {},
   "outputs": [],
   "source": [
    "cmpcode = \"\"\"\n",
    "    declare object py(PYTHON3) ;\n",
    "    rc1 = py.Initialize() ;\n",
    "    \n",
    "    rc2 = py.addVariable(Quantity, 'ALIAS', 'Y') ;\n",
    "    rc3 = py.addVariable(date, 'ALIAS', 'DS') ;\n",
    "    rc4 = py.AddVariable(PRED, \"READONLY\", \"FALSE\") ;\n",
    "    rc5 = py.AddVariable(_LENGTH_, 'ALIAS', 'NFOR') ;\n",
    "    rc6 = py.AddVariable(_LEAD_,'ALIAS','HORIZON') ;\n",
    "    \n",
    "    rc7 = py.PushCodeFile('/home/sahbic/python_prophet_code.py');\n",
    "    \n",
    "    rc14 = py.Run() ;\n",
    "    pyExitCode = py.GetExitCode() ;\n",
    "    pyRuntime = py.GetRunTime() ;\n",
    "\n",
    "    declare object pylog(OUTEXTLOG) ;\n",
    "    rc15 = pylog.Collect(py, 'EXECUTION') ;\n",
    "    declare object pyvars(OUTEXTVARSTATUS) ;\n",
    "    rc16 = pyvars.collect(py) ;\n",
    "    \n",
    " \"\"\""
   ]
  },
  {
   "cell_type": "markdown",
   "metadata": {},
   "source": [
    "### Time Series Parameters"
   ]
  },
  {
   "cell_type": "code",
   "execution_count": null,
   "metadata": {},
   "outputs": [],
   "source": [
    "forecast_lead = 7\n",
    "data_interval = \"Day\" # INTERVAL= value for Timedata.RunTimecode action\n",
    "series_params = dict(accumulate='SUM', name='Quantity') # SERIES parameters for Timedata.RunTimecode action"
   ]
  },
  {
   "cell_type": "markdown",
   "metadata": {},
   "source": [
    "### Run Distributed Forecast"
   ]
  },
  {
   "cell_type": "code",
   "execution_count": null,
   "metadata": {},
   "outputs": [],
   "source": [
    "# Call the action\n",
    "dname = lambda name: dict(name=name) # helper function to make the action call code more clear\n",
    "\n",
    "# Define and call the timedata.runTimecode action\n",
    "res = s.timedata.runtimecode(\n",
    "      table={'name':\"M5_final\",'caslib':'Public',\n",
    "             'groupby':[dname(\"item_id\")]},\n",
    "      series=[series_params],\n",
    "      interval=data_interval,\n",
    "      require=dict(pkg=\"extlang\"),\n",
    "      timeid=dict(name='date'),\n",
    "      lead=forecast_lead,\n",
    "      arrayout={'arrays':[dname(\"PRED\")],\n",
    "                        'table':dict(name=\"outarray\", replace=True)},\n",
    "      objout=[\n",
    "                dict(table=dname(\"outobj_pylog\"), objRef=\"pylog\"),\n",
    "                dict(table=dname(\"outobj_pyvars\"), objRef=\"pyvars\"),\n",
    "                  ],\n",
    "      code=cmpcode)"
   ]
  },
  {
   "cell_type": "code",
   "execution_count": null,
   "metadata": {},
   "outputs": [],
   "source": [
    "res.outinfo"
   ]
  },
  {
   "cell_type": "markdown",
   "metadata": {},
   "source": [
    "### Print Python logs"
   ]
  },
  {
   "cell_type": "code",
   "execution_count": null,
   "metadata": {},
   "outputs": [],
   "source": [
    "outlog_tbl = s.CASTable(\"outobj_pylog\")\n",
    "loglen = sum(outlog_tbl[\"_LOGLEN_\"].values)\n",
    "if loglen > 0:\n",
    "    text = \"\".join(outlog_tbl[\"_LOGTEXT_\"].values)\n",
    "    print(\"LOG:\")\n",
    "    print(text)\n",
    "    print()"
   ]
  },
  {
   "cell_type": "code",
   "execution_count": null,
   "metadata": {},
   "outputs": [],
   "source": [
    "outvars_tbl = s.CASTable(\"outobj_pyvars\")\n",
    "outvars_tbl.UPDATED.value_counts()"
   ]
  },
  {
   "cell_type": "code",
   "execution_count": null,
   "metadata": {},
   "outputs": [],
   "source": [
    "outvars_tbl.head()"
   ]
  },
  {
   "cell_type": "markdown",
   "metadata": {},
   "source": [
    "### Results"
   ]
  },
  {
   "cell_type": "code",
   "execution_count": null,
   "metadata": {},
   "outputs": [],
   "source": [
    "outarray_tbl = s.CASTable(\"OUTARRAY\")\n",
    "outarray_tbl.tail(15)"
   ]
  },
  {
   "cell_type": "markdown",
   "metadata": {},
   "source": [
    "## Close session"
   ]
  },
  {
   "cell_type": "code",
   "execution_count": null,
   "metadata": {},
   "outputs": [],
   "source": [
    "s.terminate()"
   ]
  }
 ],
 "metadata": {
  "kernelspec": {
   "display_name": "Python 3",
   "language": "python",
   "name": "python3"
  },
  "language_info": {
   "codemirror_mode": {
    "name": "ipython",
    "version": 3
   },
   "file_extension": ".py",
   "mimetype": "text/x-python",
   "name": "python",
   "nbconvert_exporter": "python",
   "pygments_lexer": "ipython3",
   "version": "3.7.3"
  }
 },
 "nbformat": 4,
 "nbformat_minor": 4
}
